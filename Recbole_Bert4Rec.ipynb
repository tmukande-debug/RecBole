{
  "nbformat": 4,
  "nbformat_minor": 0,
  "metadata": {
    "colab": {
      "provenance": [],
      "authorship_tag": "ABX9TyPjIBps/1HpRfm+UNRTa932",
      "include_colab_link": true
    },
    "kernelspec": {
      "name": "python3",
      "display_name": "Python 3"
    },
    "language_info": {
      "name": "python"
    }
  },
  "cells": [
    {
      "cell_type": "markdown",
      "metadata": {
        "id": "view-in-github",
        "colab_type": "text"
      },
      "source": [
        "<a href=\"https://colab.research.google.com/github/tmukande-debug/RecBole/blob/master/Recbole_Bert4Rec.ipynb\" target=\"_parent\"><img src=\"https://colab.research.google.com/assets/colab-badge.svg\" alt=\"Open In Colab\"/></a>"
      ]
    },
    {
      "cell_type": "code",
      "execution_count": null,
      "metadata": {
        "id": "ynpl-uwdK3kd"
      },
      "outputs": [],
      "source": [
        "#pip install recbole"
      ]
    },
    {
      "cell_type": "code",
      "source": [
        "!git clone https://github.com/RUCAIBox/RecBole.git"
      ],
      "metadata": {
        "colab": {
          "base_uri": "https://localhost:8080/"
        },
        "id": "dFE0JjUVLVW-",
        "outputId": "b0b07f65-758f-4214-af75-0705f3e8d510"
      },
      "execution_count": 1,
      "outputs": [
        {
          "output_type": "stream",
          "name": "stdout",
          "text": [
            "Cloning into 'RecBole'...\n",
            "remote: Enumerating objects: 22487, done.\u001b[K\n",
            "remote: Counting objects: 100% (612/612), done.\u001b[K\n",
            "remote: Compressing objects: 100% (306/306), done.\u001b[K\n",
            "remote: Total 22487 (delta 339), reused 535 (delta 305), pack-reused 21875\u001b[K\n",
            "Receiving objects: 100% (22487/22487), 18.88 MiB | 15.25 MiB/s, done.\n",
            "Resolving deltas: 100% (14764/14764), done.\n"
          ]
        }
      ]
    },
    {
      "cell_type": "code",
      "source": [
        "%cd RecBole"
      ],
      "metadata": {
        "colab": {
          "base_uri": "https://localhost:8080/"
        },
        "id": "SOOFiuZaLeDv",
        "outputId": "5b35fbf3-c803-4dad-9472-595e8c4cec1a"
      },
      "execution_count": 2,
      "outputs": [
        {
          "output_type": "stream",
          "name": "stdout",
          "text": [
            "/content/RecBole\n"
          ]
        }
      ]
    },
    {
      "cell_type": "code",
      "source": [
        "!pip install -r requirements.txt"
      ],
      "metadata": {
        "id": "fe4qVx8CL3zk"
      },
      "execution_count": null,
      "outputs": []
    },
    {
      "cell_type": "code",
      "source": [
        "!python run_recbole.py"
      ],
      "metadata": {
        "colab": {
          "base_uri": "https://localhost:8080/"
        },
        "id": "n5fuRpwjLoav",
        "outputId": "706c7686-77ec-46e6-8fa5-fe451414f8ac"
      },
      "execution_count": 4,
      "outputs": [
        {
          "output_type": "stream",
          "name": "stdout",
          "text": [
            "08 Mar 10:33    INFO  ['run_recbole.py']\u001b[0m\n",
            "\u001b[0m08 Mar 10:33    INFO  \n",
            "\u001b[1;35mGeneral Hyper Parameters:\n",
            "\u001b[0m\u001b[1;36mgpu_id\u001b[0m =\u001b[1;33m 0\u001b[0m\n",
            "\u001b[1;36muse_gpu\u001b[0m =\u001b[1;33m True\u001b[0m\n",
            "\u001b[1;36mseed\u001b[0m =\u001b[1;33m 2020\u001b[0m\n",
            "\u001b[1;36mstate\u001b[0m =\u001b[1;33m INFO\u001b[0m\n",
            "\u001b[1;36mreproducibility\u001b[0m =\u001b[1;33m True\u001b[0m\n",
            "\u001b[1;36mdata_path\u001b[0m =\u001b[1;33m /content/RecBole/recbole/config/../dataset_example/ml-100k\u001b[0m\n",
            "\u001b[1;36mcheckpoint_dir\u001b[0m =\u001b[1;33m saved\u001b[0m\n",
            "\u001b[1;36mshow_progress\u001b[0m =\u001b[1;33m True\u001b[0m\n",
            "\u001b[1;36msave_dataset\u001b[0m =\u001b[1;33m False\u001b[0m\n",
            "\u001b[1;36mdataset_save_path\u001b[0m =\u001b[1;33m None\u001b[0m\n",
            "\u001b[1;36msave_dataloaders\u001b[0m =\u001b[1;33m False\u001b[0m\n",
            "\u001b[1;36mdataloaders_save_path\u001b[0m =\u001b[1;33m None\u001b[0m\n",
            "\u001b[1;36mlog_wandb\u001b[0m =\u001b[1;33m False\u001b[0m\n",
            "\n",
            "\u001b[1;35mTraining Hyper Parameters:\n",
            "\u001b[0m\u001b[1;36mepochs\u001b[0m =\u001b[1;33m 300\u001b[0m\n",
            "\u001b[1;36mtrain_batch_size\u001b[0m =\u001b[1;33m 2048\u001b[0m\n",
            "\u001b[1;36mlearner\u001b[0m =\u001b[1;33m adam\u001b[0m\n",
            "\u001b[1;36mlearning_rate\u001b[0m =\u001b[1;33m 0.001\u001b[0m\n",
            "\u001b[1;36mtrain_neg_sample_args\u001b[0m =\u001b[1;33m {'distribution': 'none', 'sample_num': 'none', 'alpha': 'none', 'dynamic': False, 'candidate_num': 0}\u001b[0m\n",
            "\u001b[1;36meval_step\u001b[0m =\u001b[1;33m 1\u001b[0m\n",
            "\u001b[1;36mstopping_step\u001b[0m =\u001b[1;33m 10\u001b[0m\n",
            "\u001b[1;36mclip_grad_norm\u001b[0m =\u001b[1;33m None\u001b[0m\n",
            "\u001b[1;36mweight_decay\u001b[0m =\u001b[1;33m 0.0\u001b[0m\n",
            "\u001b[1;36mloss_decimal_place\u001b[0m =\u001b[1;33m 4\u001b[0m\n",
            "\n",
            "\u001b[1;35mEvaluation Hyper Parameters:\n",
            "\u001b[0m\u001b[1;36meval_args\u001b[0m =\u001b[1;33m {'split': {'LS': 'valid_and_test'}, 'order': 'TO', 'group_by': 'user', 'mode': {'valid': 'full', 'test': 'full'}}\u001b[0m\n",
            "\u001b[1;36mrepeatable\u001b[0m =\u001b[1;33m True\u001b[0m\n",
            "\u001b[1;36mmetrics\u001b[0m =\u001b[1;33m ['Recall', 'MRR', 'NDCG', 'Hit', 'Precision']\u001b[0m\n",
            "\u001b[1;36mtopk\u001b[0m =\u001b[1;33m [10]\u001b[0m\n",
            "\u001b[1;36mvalid_metric\u001b[0m =\u001b[1;33m MRR@10\u001b[0m\n",
            "\u001b[1;36mvalid_metric_bigger\u001b[0m =\u001b[1;33m True\u001b[0m\n",
            "\u001b[1;36meval_batch_size\u001b[0m =\u001b[1;33m 4096\u001b[0m\n",
            "\u001b[1;36mmetric_decimal_place\u001b[0m =\u001b[1;33m 4\u001b[0m\n",
            "\n",
            "\u001b[1;35mDataset Hyper Parameters:\n",
            "\u001b[0m\u001b[1;36mfield_separator\u001b[0m =\u001b[1;33m \t\u001b[0m\n",
            "\u001b[1;36mseq_separator\u001b[0m =\u001b[1;33m  \u001b[0m\n",
            "\u001b[1;36mUSER_ID_FIELD\u001b[0m =\u001b[1;33m user_id\u001b[0m\n",
            "\u001b[1;36mITEM_ID_FIELD\u001b[0m =\u001b[1;33m item_id\u001b[0m\n",
            "\u001b[1;36mRATING_FIELD\u001b[0m =\u001b[1;33m rating\u001b[0m\n",
            "\u001b[1;36mTIME_FIELD\u001b[0m =\u001b[1;33m timestamp\u001b[0m\n",
            "\u001b[1;36mseq_len\u001b[0m =\u001b[1;33m None\u001b[0m\n",
            "\u001b[1;36mLABEL_FIELD\u001b[0m =\u001b[1;33m label\u001b[0m\n",
            "\u001b[1;36mthreshold\u001b[0m =\u001b[1;33m None\u001b[0m\n",
            "\u001b[1;36mNEG_PREFIX\u001b[0m =\u001b[1;33m neg_\u001b[0m\n",
            "\u001b[1;36mload_col\u001b[0m =\u001b[1;33m {'inter': ['user_id', 'item_id', 'rating', 'timestamp']}\u001b[0m\n",
            "\u001b[1;36munload_col\u001b[0m =\u001b[1;33m None\u001b[0m\n",
            "\u001b[1;36munused_col\u001b[0m =\u001b[1;33m None\u001b[0m\n",
            "\u001b[1;36madditional_feat_suffix\u001b[0m =\u001b[1;33m None\u001b[0m\n",
            "\u001b[1;36mrm_dup_inter\u001b[0m =\u001b[1;33m None\u001b[0m\n",
            "\u001b[1;36mval_interval\u001b[0m =\u001b[1;33m None\u001b[0m\n",
            "\u001b[1;36mfilter_inter_by_user_or_item\u001b[0m =\u001b[1;33m True\u001b[0m\n",
            "\u001b[1;36muser_inter_num_interval\u001b[0m =\u001b[1;33m None\u001b[0m\n",
            "\u001b[1;36mitem_inter_num_interval\u001b[0m =\u001b[1;33m None\u001b[0m\n",
            "\u001b[1;36malias_of_user_id\u001b[0m =\u001b[1;33m None\u001b[0m\n",
            "\u001b[1;36malias_of_item_id\u001b[0m =\u001b[1;33m None\u001b[0m\n",
            "\u001b[1;36malias_of_entity_id\u001b[0m =\u001b[1;33m None\u001b[0m\n",
            "\u001b[1;36malias_of_relation_id\u001b[0m =\u001b[1;33m None\u001b[0m\n",
            "\u001b[1;36mpreload_weight\u001b[0m =\u001b[1;33m None\u001b[0m\n",
            "\u001b[1;36mnormalize_field\u001b[0m =\u001b[1;33m None\u001b[0m\n",
            "\u001b[1;36mnormalize_all\u001b[0m =\u001b[1;33m True\u001b[0m\n",
            "\u001b[1;36mITEM_LIST_LENGTH_FIELD\u001b[0m =\u001b[1;33m item_length\u001b[0m\n",
            "\u001b[1;36mLIST_SUFFIX\u001b[0m =\u001b[1;33m _list\u001b[0m\n",
            "\u001b[1;36mMAX_ITEM_LIST_LENGTH\u001b[0m =\u001b[1;33m 50\u001b[0m\n",
            "\u001b[1;36mPOSITION_FIELD\u001b[0m =\u001b[1;33m position_id\u001b[0m\n",
            "\u001b[1;36mHEAD_ENTITY_ID_FIELD\u001b[0m =\u001b[1;33m head_id\u001b[0m\n",
            "\u001b[1;36mTAIL_ENTITY_ID_FIELD\u001b[0m =\u001b[1;33m tail_id\u001b[0m\n",
            "\u001b[1;36mRELATION_ID_FIELD\u001b[0m =\u001b[1;33m relation_id\u001b[0m\n",
            "\u001b[1;36mENTITY_ID_FIELD\u001b[0m =\u001b[1;33m entity_id\u001b[0m\n",
            "\u001b[1;36mkg_reverse_r\u001b[0m =\u001b[1;33m False\u001b[0m\n",
            "\u001b[1;36mentity_kg_num_interval\u001b[0m =\u001b[1;33m None\u001b[0m\n",
            "\u001b[1;36mrelation_kg_num_interval\u001b[0m =\u001b[1;33m None\u001b[0m\n",
            "\u001b[1;36mbenchmark_filename\u001b[0m =\u001b[1;33m None\u001b[0m\n",
            "\n",
            "\u001b[1;35mOther Hyper Parameters: \n",
            "\u001b[0m\u001b[1;36mworker\u001b[0m = \u001b[1;33m0\u001b[0m\n",
            "\u001b[1;36mwandb_project\u001b[0m = \u001b[1;33mrecbole\u001b[0m\n",
            "\u001b[1;36mshuffle\u001b[0m = \u001b[1;33mTrue\u001b[0m\n",
            "\u001b[1;36mrequire_pow\u001b[0m = \u001b[1;33mFalse\u001b[0m\n",
            "\u001b[1;36menable_amp\u001b[0m = \u001b[1;33mFalse\u001b[0m\n",
            "\u001b[1;36menable_scaler\u001b[0m = \u001b[1;33mFalse\u001b[0m\n",
            "\u001b[1;36mtransform\u001b[0m = \u001b[1;33mmask_itemseq\u001b[0m\n",
            "\u001b[1;36mn_layers\u001b[0m = \u001b[1;33m2\u001b[0m\n",
            "\u001b[1;36mn_heads\u001b[0m = \u001b[1;33m2\u001b[0m\n",
            "\u001b[1;36mhidden_size\u001b[0m = \u001b[1;33m64\u001b[0m\n",
            "\u001b[1;36minner_size\u001b[0m = \u001b[1;33m256\u001b[0m\n",
            "\u001b[1;36mhidden_dropout_prob\u001b[0m = \u001b[1;33m0.2\u001b[0m\n",
            "\u001b[1;36mattn_dropout_prob\u001b[0m = \u001b[1;33m0.2\u001b[0m\n",
            "\u001b[1;36mhidden_act\u001b[0m = \u001b[1;33mgelu\u001b[0m\n",
            "\u001b[1;36mlayer_norm_eps\u001b[0m = \u001b[1;33m1e-12\u001b[0m\n",
            "\u001b[1;36minitializer_range\u001b[0m = \u001b[1;33m0.02\u001b[0m\n",
            "\u001b[1;36mmask_ratio\u001b[0m = \u001b[1;33m0.2\u001b[0m\n",
            "\u001b[1;36mloss_type\u001b[0m = \u001b[1;33mCE\u001b[0m\n",
            "\u001b[1;36mft_ratio\u001b[0m = \u001b[1;33m0.5\u001b[0m\n",
            "\u001b[1;36mnumerical_features\u001b[0m = \u001b[1;33m[]\u001b[0m\n",
            "\u001b[1;36mdiscretization\u001b[0m = \u001b[1;33mNone\u001b[0m\n",
            "\u001b[1;36mMODEL_TYPE\u001b[0m = \u001b[1;33mModelType.SEQUENTIAL\u001b[0m\n",
            "\u001b[1;36mMODEL_INPUT_TYPE\u001b[0m = \u001b[1;33mInputType.POINTWISE\u001b[0m\n",
            "\u001b[1;36meval_type\u001b[0m = \u001b[1;33mEvaluatorType.RANKING\u001b[0m\n",
            "\u001b[1;36msingle_spec\u001b[0m = \u001b[1;33mTrue\u001b[0m\n",
            "\u001b[1;36mlocal_rank\u001b[0m = \u001b[1;33m0\u001b[0m\n",
            "\u001b[1;36mdevice\u001b[0m = \u001b[1;33mcpu\u001b[0m\n",
            "\u001b[1;36mvalid_neg_sample_args\u001b[0m = \u001b[1;33m{'distribution': 'uniform', 'sample_num': 'none'}\u001b[0m\n",
            "\u001b[1;36mtest_neg_sample_args\u001b[0m = \u001b[1;33m{'distribution': 'uniform', 'sample_num': 'none'}\u001b[0m\n",
            "\n",
            "\u001b[0m\n",
            "\u001b[0m08 Mar 10:33    INFO  \u001b[1;35mml-100k\u001b[0m\n",
            "\u001b[1;34mThe number of users\u001b[0m: 944\n",
            "\u001b[1;34mAverage actions of users\u001b[0m: 106.04453870625663\n",
            "\u001b[1;34mThe number of items\u001b[0m: 1683\n",
            "\u001b[1;34mAverage actions of items\u001b[0m: 59.45303210463734\n",
            "\u001b[1;34mThe number of inters\u001b[0m: 100000\n",
            "\u001b[1;34mThe sparsity of the dataset\u001b[0m: 93.70575143257098%\n",
            "\u001b[1;34mRemain Fields\u001b[0m: ['user_id', 'item_id', 'rating', 'timestamp']\u001b[0m\n",
            "\u001b[0m08 Mar 10:33    INFO  \u001b[1;35m[Training]: \u001b[0m\u001b[1;36mtrain_batch_size\u001b[0m = \u001b[1;33m[2048]\u001b[0m\u001b[1;36m train_neg_sample_args\u001b[0m: \u001b[1;33m[{'distribution': 'none', 'sample_num': 'none', 'alpha': 'none', 'dynamic': False, 'candidate_num': 0}]\u001b[0m\n",
            "\u001b[0m08 Mar 10:33    INFO  \u001b[1;35m[Evaluation]: \u001b[0m\u001b[1;36meval_batch_size\u001b[0m = \u001b[1;33m[4096]\u001b[0m\u001b[1;36m eval_args\u001b[0m: \u001b[1;33m[{'split': {'LS': 'valid_and_test'}, 'order': 'TO', 'group_by': 'user', 'mode': {'valid': 'full', 'test': 'full'}}]\u001b[0m\n",
            "\u001b[0m08 Mar 10:33    INFO  BERT4Rec(\n",
            "  (item_embedding): Embedding(1684, 64, padding_idx=0)\n",
            "  (position_embedding): Embedding(50, 64)\n",
            "  (trm_encoder): TransformerEncoder(\n",
            "    (layer): ModuleList(\n",
            "      (0): TransformerLayer(\n",
            "        (multi_head_attention): MultiHeadAttention(\n",
            "          (query): Linear(in_features=64, out_features=64, bias=True)\n",
            "          (key): Linear(in_features=64, out_features=64, bias=True)\n",
            "          (value): Linear(in_features=64, out_features=64, bias=True)\n",
            "          (softmax): Softmax(dim=-1)\n",
            "          (attn_dropout): Dropout(p=0.2, inplace=False)\n",
            "          (dense): Linear(in_features=64, out_features=64, bias=True)\n",
            "          (LayerNorm): LayerNorm((64,), eps=1e-12, elementwise_affine=True)\n",
            "          (out_dropout): Dropout(p=0.2, inplace=False)\n",
            "        )\n",
            "        (feed_forward): FeedForward(\n",
            "          (dense_1): Linear(in_features=64, out_features=256, bias=True)\n",
            "          (dense_2): Linear(in_features=256, out_features=64, bias=True)\n",
            "          (LayerNorm): LayerNorm((64,), eps=1e-12, elementwise_affine=True)\n",
            "          (dropout): Dropout(p=0.2, inplace=False)\n",
            "        )\n",
            "      )\n",
            "      (1): TransformerLayer(\n",
            "        (multi_head_attention): MultiHeadAttention(\n",
            "          (query): Linear(in_features=64, out_features=64, bias=True)\n",
            "          (key): Linear(in_features=64, out_features=64, bias=True)\n",
            "          (value): Linear(in_features=64, out_features=64, bias=True)\n",
            "          (softmax): Softmax(dim=-1)\n",
            "          (attn_dropout): Dropout(p=0.2, inplace=False)\n",
            "          (dense): Linear(in_features=64, out_features=64, bias=True)\n",
            "          (LayerNorm): LayerNorm((64,), eps=1e-12, elementwise_affine=True)\n",
            "          (out_dropout): Dropout(p=0.2, inplace=False)\n",
            "        )\n",
            "        (feed_forward): FeedForward(\n",
            "          (dense_1): Linear(in_features=64, out_features=256, bias=True)\n",
            "          (dense_2): Linear(in_features=256, out_features=64, bias=True)\n",
            "          (LayerNorm): LayerNorm((64,), eps=1e-12, elementwise_affine=True)\n",
            "          (dropout): Dropout(p=0.2, inplace=False)\n",
            "        )\n",
            "      )\n",
            "    )\n",
            "  )\n",
            "  (LayerNorm): LayerNorm((64,), eps=1e-12, elementwise_affine=True)\n",
            "  (dropout): Dropout(p=0.2, inplace=False)\n",
            ")\u001b[1;34m\n",
            "Trainable parameters\u001b[0m: 211072\u001b[0m\n",
            "\u001b[0m08 Mar 10:33    INFO  \u001b[1;34mFLOPs\u001b[0m: 4983464.0\u001b[0m\n",
            "\u001b[0m2023-03-08 10:33:28.740929: I tensorflow/core/platform/cpu_feature_guard.cc:193] This TensorFlow binary is optimized with oneAPI Deep Neural Network Library (oneDNN) to use the following CPU instructions in performance-critical operations:  AVX2 FMA\n",
            "To enable them in other operations, rebuild TensorFlow with the appropriate compiler flags.\n",
            "2023-03-08 10:33:29.915653: W tensorflow/compiler/xla/stream_executor/platform/default/dso_loader.cc:64] Could not load dynamic library 'libnvinfer.so.7'; dlerror: libnvinfer.so.7: cannot open shared object file: No such file or directory; LD_LIBRARY_PATH: /usr/local/nvidia/lib:/usr/local/nvidia/lib64\n",
            "2023-03-08 10:33:29.915796: W tensorflow/compiler/xla/stream_executor/platform/default/dso_loader.cc:64] Could not load dynamic library 'libnvinfer_plugin.so.7'; dlerror: libnvinfer_plugin.so.7: cannot open shared object file: No such file or directory; LD_LIBRARY_PATH: /usr/local/nvidia/lib:/usr/local/nvidia/lib64\n",
            "2023-03-08 10:33:29.915820: W tensorflow/compiler/tf2tensorrt/utils/py_utils.cc:38] TF-TRT Warning: Cannot dlopen some TensorRT libraries. If you would like to use Nvidia GPU with TensorRT, please make sure the missing libraries mentioned above are installed properly.\n",
            "\u001b[1;35mTrain     0\u001b[0m: 100%|██████████████████████████████████████████████████| 48/48 [06:42<00:00,  8.39s/it]\u001b[0m\u001b[0m\n",
            "\u001b[0m08 Mar 10:40    INFO  \u001b[1;32mepoch 0 training\u001b[0m [\u001b[1;34mtime\u001b[0m: 402.88s, \u001b[1;34mtrain loss\u001b[0m: 331.9186]\u001b[0m\n",
            "\u001b[1;35mEvaluate   \u001b[0m: 100%|████████████████████████████████████████████████████| 1/1 [00:00<00:00,  1.76it/s]\u001b[0m\u001b[0m\n",
            "\u001b[0m08 Mar 10:40    INFO  \u001b[1;32mepoch 0 evaluating\u001b[0m [\u001b[1;34mtime\u001b[0m: 0.58s, \u001b[1;34mvalid_score\u001b[0m: 0.010700]\u001b[0m\n",
            "\u001b[0m08 Mar 10:40    INFO  \u001b[1;34mvalid result\u001b[0m: \n",
            "recall@10 : 0.0318    mrr@10 : 0.0107    ndcg@10 : 0.0155    hit@10 : 0.0318    precision@10 : 0.0032\u001b[0m\n",
            "\u001b[0m08 Mar 10:40    INFO  \u001b[1;34mSaving current\u001b[0m: saved/BERT4Rec-Mar-08-2023_10-33-30.pth\u001b[0m\n",
            "\u001b[1;35mTrain     1\u001b[0m: 100%|██████████████████████████████████████████████████| 48/48 [06:40<00:00,  8.34s/it]\u001b[0m\u001b[0m\n",
            "\u001b[0m08 Mar 10:46    INFO  \u001b[1;32mepoch 1 training\u001b[0m [\u001b[1;34mtime\u001b[0m: 400.27s, \u001b[1;34mtrain loss\u001b[0m: 318.9862]\u001b[0m\n",
            "\u001b[1;35mEvaluate   \u001b[0m: 100%|████████████████████████████████████████████████████| 1/1 [00:00<00:00,  1.30it/s]\u001b[0m\u001b[0m\n",
            "\u001b[0m08 Mar 10:46    INFO  \u001b[1;32mepoch 1 evaluating\u001b[0m [\u001b[1;34mtime\u001b[0m: 0.78s, \u001b[1;34mvalid_score\u001b[0m: 0.015400]\u001b[0m\n",
            "\u001b[0m08 Mar 10:46    INFO  \u001b[1;34mvalid result\u001b[0m: \n",
            "recall@10 : 0.0488    mrr@10 : 0.0154    ndcg@10 : 0.0231    hit@10 : 0.0488    precision@10 : 0.0049\u001b[0m\n",
            "\u001b[0m08 Mar 10:46    INFO  \u001b[1;34mSaving current\u001b[0m: saved/BERT4Rec-Mar-08-2023_10-33-30.pth\u001b[0m\n",
            "\u001b[1;35mTrain     2\u001b[0m: 100%|██████████████████████████████████████████████████| 48/48 [06:52<00:00,  8.59s/it]\u001b[0m\u001b[0m\n",
            "\u001b[0m08 Mar 10:53    INFO  \u001b[1;32mepoch 2 training\u001b[0m [\u001b[1;34mtime\u001b[0m: 412.26s, \u001b[1;34mtrain loss\u001b[0m: 307.0692]\u001b[0m\n",
            "\u001b[1;35mEvaluate   \u001b[0m: 100%|████████████████████████████████████████████████████| 1/1 [00:00<00:00,  1.87it/s]\u001b[0m\u001b[0m\n",
            "\u001b[0m08 Mar 10:53    INFO  \u001b[1;32mepoch 2 evaluating\u001b[0m [\u001b[1;34mtime\u001b[0m: 0.54s, \u001b[1;34mvalid_score\u001b[0m: 0.020400]\u001b[0m\n",
            "\u001b[0m08 Mar 10:53    INFO  \u001b[1;34mvalid result\u001b[0m: \n",
            "recall@10 : 0.0604    mrr@10 : 0.0204    ndcg@10 : 0.0296    hit@10 : 0.0604    precision@10 : 0.006\u001b[0m\n",
            "\u001b[0m08 Mar 10:53    INFO  \u001b[1;34mSaving current\u001b[0m: saved/BERT4Rec-Mar-08-2023_10-33-30.pth\u001b[0m\n",
            "\u001b[1;35mTrain     3\u001b[0m: 100%|██████████████████████████████████████████████████| 48/48 [06:42<00:00,  8.39s/it]\u001b[0m\u001b[0m\n",
            "\u001b[0m08 Mar 11:00    INFO  \u001b[1;32mepoch 3 training\u001b[0m [\u001b[1;34mtime\u001b[0m: 402.68s, \u001b[1;34mtrain loss\u001b[0m: 300.2797]\u001b[0m\n",
            "\u001b[1;35mEvaluate   \u001b[0m: 100%|████████████████████████████████████████████████████| 1/1 [00:00<00:00,  1.29it/s]\u001b[0m\u001b[0m\n",
            "\u001b[0m08 Mar 11:00    INFO  \u001b[1;32mepoch 3 evaluating\u001b[0m [\u001b[1;34mtime\u001b[0m: 0.79s, \u001b[1;34mvalid_score\u001b[0m: 0.021400]\u001b[0m\n",
            "\u001b[0m08 Mar 11:00    INFO  \u001b[1;34mvalid result\u001b[0m: \n",
            "recall@10 : 0.071    mrr@10 : 0.0214    ndcg@10 : 0.0327    hit@10 : 0.071    precision@10 : 0.0071\u001b[0m\n",
            "\u001b[0m08 Mar 11:00    INFO  \u001b[1;34mSaving current\u001b[0m: saved/BERT4Rec-Mar-08-2023_10-33-30.pth\u001b[0m\n",
            "\u001b[1;35mTrain     4\u001b[0m:  56%|████████████████████████████▏                     | 27/48 [03:58<03:05,  8.84s/it]\u001b[0m\u001b[0m\n",
            "\u001b[0mTraceback (most recent call last):\n",
            "\u001b[0m  File \"run_recbole.py\", line 18, in <module>\n",
            "\u001b[0m    \u001b[0mrun_recbole(model='BERT4Rec', dataset='ml-100k', config_dict=parameter_dict)\u001b[0m\n",
            "\u001b[0m  File \"/content/RecBole/recbole/quick_start/quick_start.py\", line 89, in run_recbole\n",
            "\u001b[0m    \u001b[0mbest_valid_score, best_valid_result = trainer.fit(\u001b[0m\n",
            "\u001b[0m  File \"/content/RecBole/recbole/trainer/trainer.py\", line 437, in fit\n",
            "\u001b[0m    \u001b[0mtrain_loss = self._train_epoch(\u001b[0m\n",
            "\u001b[0m  File \"/content/RecBole/recbole/trainer/trainer.py\", line 259, in _train_epoch\n",
            "\u001b[0m    \u001b[0mscaler.scale(loss + sync_loss).backward()\u001b[0m\n",
            "\u001b[0m  File \"/usr/local/lib/python3.8/dist-packages/torch/_tensor.py\", line 488, in backward\n",
            "\u001b[0m    \u001b[0mtorch.autograd.backward(\u001b[0m\n",
            "\u001b[0m  File \"/usr/local/lib/python3.8/dist-packages/torch/autograd/__init__.py\", line 197, in backward\n",
            "\u001b[0m    \u001b[0mVariable._execution_engine.run_backward(  # Calls into the C++ engine to run the backward pass\u001b[0m\n",
            "\u001b[0mKeyboardInterrupt\u001b[0m\u001b[0m\n",
            "\u001b[0m\u001b[0m^C\n"
          ]
        }
      ]
    }
  ]
}